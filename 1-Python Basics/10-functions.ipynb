{
 "cells": [
  {
   "cell_type": "code",
   "execution_count": 4,
   "metadata": {},
   "outputs": [
    {
     "name": "stdout",
     "output_type": "stream",
     "text": [
      "7\n"
     ]
    }
   ],
   "source": [
    "#simple function with syntax\n",
    "\n",
    "def sum(i,j):\n",
    "    return i+j\n",
    "\n",
    "print (sum(5,2))"
   ]
  },
  {
   "cell_type": "code",
   "execution_count": 6,
   "metadata": {},
   "outputs": [
    {
     "name": "stdout",
     "output_type": "stream",
     "text": [
      "hi aditi\n"
     ]
    }
   ],
   "source": [
    "#default parameters\n",
    "\n",
    "def greet (name='Pankaj'):\n",
    "    print (f\"hi {name}\")\n",
    "\n",
    "greet(\"aditi\")"
   ]
  },
  {
   "cell_type": "code",
   "execution_count": 7,
   "metadata": {},
   "outputs": [
    {
     "name": "stdout",
     "output_type": "stream",
     "text": [
      "1\n",
      "2\n",
      "3\n",
      "4\n",
      "5\n"
     ]
    }
   ],
   "source": [
    "#variable length parameters\n",
    "\n",
    "#positional and keyword arguements. \n",
    "\n",
    "#below example can take any numbers of arguements\n",
    "\n",
    "def print_numbers(*args): #you can use any word instead of args\n",
    "    for number in args:\n",
    "        print (number)\n",
    "\n",
    "\n",
    "print_numbers(1,2,3,4,5)\n"
   ]
  },
  {
   "cell_type": "code",
   "execution_count": 8,
   "metadata": {},
   "outputs": [
    {
     "name": "stdout",
     "output_type": "stream",
     "text": [
      "name:Pankaj\n",
      "age:42\n",
      "city:Pune\n"
     ]
    }
   ],
   "source": [
    "#Keywords arguement\n",
    "\n",
    "#in this all the parameters are provided in the form of key value pair\n",
    "\n",
    "def print_details(**kwargs): #again you can use any word instead of kwargs\n",
    "    for key, value in kwargs.items():\n",
    "        print (f\"{key}:{value}\")\n",
    "\n",
    "print_details(name='Pankaj',age=42, city=\"Pune\")"
   ]
  },
  {
   "cell_type": "code",
   "execution_count": 10,
   "metadata": {},
   "outputs": [
    {
     "name": "stdout",
     "output_type": "stream",
     "text": [
      "1\n",
      "2\n",
      "3\n",
      "name:Pankaj\n"
     ]
    }
   ],
   "source": [
    "def print_details(*args,**kwargs):\n",
    "    for val in args:\n",
    "        print (val)\n",
    "    for key,value in kwargs.items():\n",
    "        print (f\"{key}:{value}\")\n",
    "\n",
    "print_details(1,2,3,name=\"Pankaj\")"
   ]
  },
  {
   "cell_type": "code",
   "execution_count": 13,
   "metadata": {},
   "outputs": [
    {
     "name": "stdout",
     "output_type": "stream",
     "text": [
      "11\n"
     ]
    }
   ],
   "source": [
    "#lambda functions\n",
    "#anonymous function - fucntion without name\n",
    "# created by lambda keyword\n",
    "# synax: lambda arguements: expression\n",
    "\n",
    "addition=lambda a,b: a+b\n",
    "\n",
    "print(addition(5,6))\n",
    "\n"
   ]
  },
  {
   "cell_type": "code",
   "execution_count": 17,
   "metadata": {},
   "outputs": [
    {
     "name": "stdout",
     "output_type": "stream",
     "text": [
      "False\n"
     ]
    }
   ],
   "source": [
    "#check if a number is even\n",
    "\n",
    "even_checker=lambda x: (x%2==0)\n",
    "\n",
    "print (even_checker(5))"
   ]
  },
  {
   "cell_type": "code",
   "execution_count": 22,
   "metadata": {},
   "outputs": [
    {
     "name": "stdout",
     "output_type": "stream",
     "text": [
      "4\n"
     ]
    },
    {
     "data": {
      "text/plain": [
       "[1, 4, 9, 16, 25, 36]"
      ]
     },
     "execution_count": 22,
     "metadata": {},
     "output_type": "execute_result"
    }
   ],
   "source": [
    "# square of each number\n",
    "\n",
    "square=lambda x: x**2\n",
    "\n",
    "print (square(2))\n",
    "\n",
    "#now, if you want to pass a list to this\n",
    "numbers=[1,2,3,4,5,6]\n",
    "list(map(square,numbers)) # maps fmunction to an iterable. Does lazy loading of iterable\n"
   ]
  },
  {
   "cell_type": "code",
   "execution_count": 25,
   "metadata": {},
   "outputs": [
    {
     "data": {
      "text/plain": [
       "[1, 4, 9, 16]"
      ]
     },
     "execution_count": 25,
     "metadata": {},
     "output_type": "execute_result"
    }
   ],
   "source": [
    "# The above method shows you MAP\n",
    "# Map is used to apply a method to an iterable and returns an iterator\n",
    "\n",
    "def square (x):\n",
    "    return x**2\n",
    "\n",
    "square(2)\n",
    "\n",
    "numbers=[1,2,3,4]\n",
    "\n",
    "list(map(square,numbers))"
   ]
  },
  {
   "cell_type": "code",
   "execution_count": 27,
   "metadata": {},
   "outputs": [
    {
     "name": "stdout",
     "output_type": "stream",
     "text": [
      "[6, 8, 10, 12]\n"
     ]
    }
   ],
   "source": [
    "#Map multiple iterables\n",
    "numbers1=[1,2,3,4]\n",
    "numbers2=[5,6,7,8]\n",
    "\n",
    "added_numbers=list(map(lambda x,y:x+y, numbers1, numbers2))\n",
    "\n",
    "print (added_numbers)"
   ]
  },
  {
   "cell_type": "code",
   "execution_count": 38,
   "metadata": {},
   "outputs": [
    {
     "name": "stdout",
     "output_type": "stream",
     "text": [
      "['APPLE', 'BANANA', 'CHERRY']\n"
     ]
    }
   ],
   "source": [
    "# we can also map internal built in function\n",
    "\n",
    "words=[\"apple\",\"banana\",\"cherry\"]\n",
    "\n",
    "upper_case_list=list(map(str.upper,words))\n",
    "\n",
    "print (upper_case_list)\n"
   ]
  },
  {
   "cell_type": "code",
   "execution_count": 34,
   "metadata": {},
   "outputs": [],
   "source": [
    "count_list=list(map(str.capitalize,words))"
   ]
  },
  {
   "cell_type": "code",
   "execution_count": 35,
   "metadata": {},
   "outputs": [
    {
     "name": "stdout",
     "output_type": "stream",
     "text": [
      "['Apple', 'Banana', 'Cherry']\n"
     ]
    }
   ],
   "source": [
    "print(count_list)"
   ]
  },
  {
   "cell_type": "code",
   "execution_count": 39,
   "metadata": {},
   "outputs": [
    {
     "data": {
      "text/plain": [
       "True"
      ]
     },
     "execution_count": 39,
     "metadata": {},
     "output_type": "execute_result"
    }
   ],
   "source": [
    "# Filter functions\n",
    "\n",
    "# used for filtering items from a list based on a condition\n",
    "def even(num):\n",
    "    if (num%2==0):\n",
    "        return True\n",
    "    \n",
    "\n",
    "even(2)"
   ]
  },
  {
   "cell_type": "code",
   "execution_count": 42,
   "metadata": {},
   "outputs": [
    {
     "data": {
      "text/plain": [
       "[2, 4, 6, 8, 10]"
      ]
     },
     "execution_count": 42,
     "metadata": {},
     "output_type": "execute_result"
    }
   ],
   "source": [
    "# Now if I have a list\n",
    "numbers=[1,2,3,4,5,6,7,8,9,10]\n",
    "\n",
    "# Now, if I want to only get the items which satisfy the even criteria\n",
    "\n",
    "# for this you use filter\n",
    "list(filter(even,numbers))"
   ]
  },
  {
   "cell_type": "code",
   "execution_count": 44,
   "metadata": {},
   "outputs": [
    {
     "data": {
      "text/plain": [
       "[6, 7, 8, 9]"
      ]
     },
     "execution_count": 44,
     "metadata": {},
     "output_type": "execute_result"
    }
   ],
   "source": [
    "# more example of filters\n",
    "\n",
    "numbers=[1,2,3,4,5,6,7,8,9]\n",
    "\n",
    "# filter greater than 5\n",
    "\n",
    "list(filter(lambda x: x>5, numbers))\n"
   ]
  },
  {
   "cell_type": "code",
   "execution_count": 45,
   "metadata": {},
   "outputs": [
    {
     "data": {
      "text/plain": [
       "[6, 8]"
      ]
     },
     "execution_count": 45,
     "metadata": {},
     "output_type": "execute_result"
    }
   ],
   "source": [
    "# filter with multiple condition\n",
    "\n",
    "list(filter(lambda x: x%2==0 and x>5,numbers))"
   ]
  },
  {
   "cell_type": "code",
   "execution_count": null,
   "metadata": {},
   "outputs": [],
   "source": []
  }
 ],
 "metadata": {
  "kernelspec": {
   "display_name": "venv",
   "language": "python",
   "name": "python3"
  },
  "language_info": {
   "codemirror_mode": {
    "name": "ipython",
    "version": 3
   },
   "file_extension": ".py",
   "mimetype": "text/x-python",
   "name": "python",
   "nbconvert_exporter": "python",
   "pygments_lexer": "ipython3",
   "version": "3.12.0"
  }
 },
 "nbformat": 4,
 "nbformat_minor": 2
}
