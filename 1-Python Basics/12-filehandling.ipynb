{
 "cells": [
  {
   "cell_type": "code",
   "execution_count": 3,
   "metadata": {},
   "outputs": [
    {
     "name": "stdout",
     "output_type": "stream",
     "text": [
      "My name is Pankaj\n",
      "I work for TCS\n",
      "I have 20 years of experience\n"
     ]
    }
   ],
   "source": [
    "# REading a file- entire content\n",
    "\n",
    "with open('sample.txt',\"r\") as file:\n",
    "    content=file.read()\n",
    "\n",
    "print (content)\n"
   ]
  },
  {
   "cell_type": "code",
   "execution_count": 7,
   "metadata": {},
   "outputs": [
    {
     "name": "stdout",
     "output_type": "stream",
     "text": [
      "My name is Pankajread\n",
      "I work for TCSread\n",
      "I have 20 years of experienceread\n"
     ]
    }
   ],
   "source": [
    "# read line by line\n",
    "with open('sample.txt','r') as file:\n",
    "    for line in file:\n",
    "        print (f\"{line.strip()}read\")"
   ]
  },
  {
   "cell_type": "code",
   "execution_count": 10,
   "metadata": {},
   "outputs": [],
   "source": [
    "# Writing a file\n",
    "\n",
    "with open('sample.txt',\"w\") as file: # in this case the file content are overwritten\n",
    "    file.write(\"Hello world \\n\")\n",
    "    file.write(\"This is a new line\")"
   ]
  },
  {
   "cell_type": "code",
   "execution_count": 11,
   "metadata": {},
   "outputs": [],
   "source": [
    "with open('sample.txt',\"a\") as file: # in this case the file content are overwritten\n",
    "    file.write(\"\\nMy Name is Pankaj \\n\")\n",
    "    file.write(\"I work for TCS\")"
   ]
  },
  {
   "cell_type": "code",
   "execution_count": 12,
   "metadata": {},
   "outputs": [],
   "source": [
    "# Writing list of lines to a file\n",
    "lines=['first line \\n Second line \\n Third line \\n']\n",
    "with open('sample.txt', 'a') as file:\n",
    "    file.writelines(lines)\n"
   ]
  },
  {
   "cell_type": "code",
   "execution_count": 15,
   "metadata": {},
   "outputs": [
    {
     "name": "stdout",
     "output_type": "stream",
     "text": [
      "b'hello world'\n"
     ]
    }
   ],
   "source": [
    "# Handling binary files\n",
    "\n",
    "with open('example.bin','rb') as file:\n",
    "    content=file.read()\n",
    "print(content)"
   ]
  },
  {
   "cell_type": "code",
   "execution_count": 18,
   "metadata": {},
   "outputs": [],
   "source": [
    "\n",
    "data=b'\\x00'\n",
    "with open('example.bin','wb') as file:\n",
    "    file.write(data)"
   ]
  },
  {
   "cell_type": "code",
   "execution_count": 31,
   "metadata": {},
   "outputs": [
    {
     "name": "stdout",
     "output_type": "stream",
     "text": [
      "['Hello', 'world']\n",
      "1\n",
      "2\n",
      "[5, 5]\n"
     ]
    }
   ],
   "source": [
    "# read a text file and count the number of lines, words, and charachters\n",
    "line_count=0\n",
    "word_count=0\n",
    "char_count=0\n",
    "\n",
    "with open(\"sample.txt\",\"r\") as file:\n",
    "    line=file.readline().split()\n",
    "    print(line)\n",
    "    line_count+=1\n",
    "    print(line_count)\n",
    "    word_count+=len(line)\n",
    "    print(word_count)\n",
    "    print (list(map(lambda x:len(x),line)))\n",
    "\n"
   ]
  },
  {
   "cell_type": "code",
   "execution_count": 32,
   "metadata": {},
   "outputs": [
    {
     "name": "stdout",
     "output_type": "stream",
     "text": [
      "Hello Pankaj \n",
      "This is a new line \n",
      "\n"
     ]
    }
   ],
   "source": [
    "# writing and then reading the file\n",
    "with open(\"sample.txt\",'w+') as file:\n",
    "    file.write(\"Hello Pankaj \\n\")\n",
    "    file.write(\"This is a new line \\n\")\n",
    "\n",
    "    file.seek (0) #to move the cursor back to original to read from start\n",
    "    content=file.read()\n",
    "    print (content)"
   ]
  },
  {
   "cell_type": "code",
   "execution_count": 34,
   "metadata": {},
   "outputs": [],
   "source": [
    "# Handling the paths of the file - Important\n",
    "\n",
    "# checking the current directory\n",
    "import os\n",
    "cwd=os.getcwd()"
   ]
  },
  {
   "cell_type": "code",
   "execution_count": 35,
   "metadata": {},
   "outputs": [
    {
     "name": "stdout",
     "output_type": "stream",
     "text": [
      "e:\\Pankaj\\Git\\SampleCode\\1-Python Basics\n"
     ]
    }
   ],
   "source": [
    "print (cwd)"
   ]
  },
  {
   "cell_type": "code",
   "execution_count": 36,
   "metadata": {},
   "outputs": [
    {
     "name": "stdout",
     "output_type": "stream",
     "text": [
      "Direcory Packages created\n"
     ]
    }
   ],
   "source": [
    "# create new directory\n",
    "new_directory=\"Packages\"\n",
    "\n",
    "os.mkdir(new_directory)\n",
    "print(f\"Direcory {new_directory} created\")"
   ]
  },
  {
   "cell_type": "code",
   "execution_count": 39,
   "metadata": {},
   "outputs": [
    {
     "name": "stdout",
     "output_type": "stream",
     "text": [
      "['1-basics.ipynb', '10-functions.ipynb', '11-filehandling.ipynb', '11-importing_mod_pack.ipynb', '2-variables.ipynb', '3-datatypes.ipynb', '4-controlflow.ipynb', '5-loops.ipynb', '6-dataStructures_list.ipynb', '7-dataStructures_tuple.ipynb', '8-dataStructures_sets.ipynb', '9-dataStructures_dict.ipynb', 'app.py', 'example.bin', 'Packages', 'rquirements.txt', 'sample.txt', 'test.ipynb'] <class 'list'>\n"
     ]
    }
   ],
   "source": [
    "# Listing all files and directories\n",
    "items=os.listdir(\".\")\n",
    "print(items,type(items))"
   ]
  },
  {
   "cell_type": "code",
   "execution_count": 42,
   "metadata": {},
   "outputs": [
    {
     "name": "stdout",
     "output_type": "stream",
     "text": [
      "e:\\Pankaj\\Git\\SampleCode\\1-Python Basics\\Folder\\file.txt\n"
     ]
    }
   ],
   "source": [
    "# Joining paths\n",
    "dir_name=\"Folder\"\n",
    "file_name=\"file.txt\"\n",
    "full_path=os.path.join(os.getcwd(),dir_name,file_name) # OS.path helps with multiple functions to handle the file and directory paths\n",
    "print(full_path)"
   ]
  },
  {
   "cell_type": "code",
   "execution_count": 43,
   "metadata": {},
   "outputs": [
    {
     "name": "stdout",
     "output_type": "stream",
     "text": [
      "The file path sample1.txt does not exist\n"
     ]
    }
   ],
   "source": [
    "#check if a particular file path exists\n",
    "path=\"sample1.txt\"\n",
    "if(os.path.exists(path)):\n",
    "    print (f\"The file path {path} does exist\")\n",
    "else:\n",
    "    print (f\"The file path {path} does not exist\")\n",
    "\n"
   ]
  },
  {
   "cell_type": "code",
   "execution_count": 4,
   "metadata": {},
   "outputs": [
    {
     "name": "stdout",
     "output_type": "stream",
     "text": [
      "The path e:\\Pankaj\\Git\\SampleCode\\1-Python Basics\\sample.txt is a file\n",
      "The path e:\\Pankaj\\Git\\SampleCode\\1-Python Basics\\Packages is a dir\n"
     ]
    }
   ],
   "source": [
    "# checkng if the given path is of a file or a directory\n",
    "import os\n",
    "file_path=\"sample.txt\"\n",
    "file_path1=\"Packages\"\n",
    "if(os.path.isfile(os.path.join(os.getcwd(),file_path))):\n",
    "    print (f\"The path {os.path.join(os.getcwd(),file_path)} is a file\")\n",
    "else:\n",
    "    print (f\"The path {os.path.join(os.getcwd(),file_path)} is not a file\")\n",
    "\n",
    "if(os.path.isdir(os.path.join(os.getcwd(),file_path1))):\n",
    "    print (f\"The path {os.path.join(os.getcwd(),file_path1)} is a dir\")\n",
    "else:\n",
    "    print (f\"The path {os.path.join(os.getcwd(),file_path1)} is not a dir\")"
   ]
  },
  {
   "cell_type": "code",
   "execution_count": 5,
   "metadata": {},
   "outputs": [
    {
     "name": "stdout",
     "output_type": "stream",
     "text": [
      "e:\\Pankaj\\Git\\SampleCode\\1-Python Basics\\sample.txt\n"
     ]
    }
   ],
   "source": [
    "#getting absolute path of a file\n",
    "\n",
    "filepath=\"sample.txt\"\n",
    "abs_path=os.path.abspath(file_path)\n",
    "print(abs_path)"
   ]
  }
 ],
 "metadata": {
  "kernelspec": {
   "display_name": "venv",
   "language": "python",
   "name": "python3"
  },
  "language_info": {
   "codemirror_mode": {
    "name": "ipython",
    "version": 3
   },
   "file_extension": ".py",
   "mimetype": "text/x-python",
   "name": "python",
   "nbconvert_exporter": "python",
   "pygments_lexer": "ipython3",
   "version": "3.12.0"
  }
 },
 "nbformat": 4,
 "nbformat_minor": 2
}
