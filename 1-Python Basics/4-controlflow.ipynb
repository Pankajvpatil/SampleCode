{
 "cells": [
  {
   "cell_type": "code",
   "execution_count": 2,
   "metadata": {},
   "outputs": [
    {
     "name": "stdout",
     "output_type": "stream",
     "text": [
      "I am here\n"
     ]
    }
   ],
   "source": [
    "#if statement\n",
    "\n",
    "i=4\n",
    "if i<5:\n",
    "    print (\"I am here\")\n",
    "else:   \n",
    "    print (\"I am there\")"
   ]
  },
  {
   "cell_type": "code",
   "execution_count": 3,
   "metadata": {},
   "outputs": [
    {
     "name": "stdout",
     "output_type": "stream",
     "text": [
      "YOu are an adult\n"
     ]
    }
   ],
   "source": [
    "#elif\n",
    "\n",
    "age=20\n",
    "if age<13:\n",
    "    print (\"You are a minor\")\n",
    "elif age<19:\n",
    "    print (\"You are a teenager\")\n",
    "else:\n",
    "    print(\"YOu are an adult\")"
   ]
  },
  {
   "cell_type": "code",
   "execution_count": 5,
   "metadata": {},
   "outputs": [
    {
     "name": "stdout",
     "output_type": "stream",
     "text": [
      "The number is positive\n",
      "The number is odd\n"
     ]
    }
   ],
   "source": [
    "#you can also nest the conditional statements\n",
    "num=int(input (\"Please enter your number\"))\n",
    "\n",
    "if num>0:\n",
    "    print (\"The number is positive\")\n",
    "    if num%2==0:\n",
    "        print (\"The number is even\")\n",
    "    else:\n",
    "        print (\"The number is odd\")"
   ]
  }
 ],
 "metadata": {
  "kernelspec": {
   "display_name": "venv",
   "language": "python",
   "name": "python3"
  },
  "language_info": {
   "codemirror_mode": {
    "name": "ipython",
    "version": 3
   },
   "file_extension": ".py",
   "mimetype": "text/x-python",
   "name": "python",
   "nbconvert_exporter": "python",
   "pygments_lexer": "ipython3",
   "version": "3.12.0"
  }
 },
 "nbformat": 4,
 "nbformat_minor": 2
}
