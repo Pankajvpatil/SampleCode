{
 "cells": [
  {
   "cell_type": "code",
   "execution_count": 6,
   "metadata": {},
   "outputs": [
    {
     "name": "stdout",
     "output_type": "stream",
     "text": [
      "[0, 1, 2, 3]\n"
     ]
    }
   ],
   "source": [
    "#lists\n",
    "\n",
    "#list are ordered,mutable collectiolns of items\n",
    "#provided in square brackets\n",
    "#can contain any data type as well ass mixed type\n",
    "\n",
    "list1=[0,1,2,3]\n",
    "\n",
    "print (list1)"
   ]
  },
  {
   "cell_type": "code",
   "execution_count": 7,
   "metadata": {},
   "outputs": [
    {
     "name": "stdout",
     "output_type": "stream",
     "text": [
      "<class 'list'>\n"
     ]
    }
   ],
   "source": [
    "print (type(list1))"
   ]
  },
  {
   "cell_type": "code",
   "execution_count": 8,
   "metadata": {},
   "outputs": [],
   "source": [
    "list2=[\"Names\",\"JAcob\"]"
   ]
  },
  {
   "cell_type": "code",
   "execution_count": 9,
   "metadata": {},
   "outputs": [
    {
     "name": "stdout",
     "output_type": "stream",
     "text": [
      "['Names', 'JAcob'] <class 'list'>\n"
     ]
    }
   ],
   "source": [
    "print (list2, type (list2))"
   ]
  },
  {
   "cell_type": "code",
   "execution_count": 26,
   "metadata": {},
   "outputs": [
    {
     "name": "stdout",
     "output_type": "stream",
     "text": [
      "fruit list is ['Mango', 'Banana', 'Guavava', 'Cherry', 'apple', 'plums', 'strawberry']\n"
     ]
    }
   ],
   "source": [
    "#accessing items\n",
    "fruits=[\"Mango\",\"Banana\",\"Guavava\",\"Cherry\",\"apple\",\"plums\",\"strawberry\"]\n",
    "\n",
    "print (f\"fruit list is {fruits}\")"
   ]
  },
  {
   "cell_type": "code",
   "execution_count": 27,
   "metadata": {},
   "outputs": [
    {
     "name": "stdout",
     "output_type": "stream",
     "text": [
      "Mango\n",
      "strawberry\n",
      "plums\n"
     ]
    }
   ],
   "source": [
    "print (fruits[0])\n",
    "print (fruits[-1])\n",
    "print (fruits[-2])\n"
   ]
  },
  {
   "cell_type": "code",
   "execution_count": 33,
   "metadata": {},
   "outputs": [
    {
     "name": "stdout",
     "output_type": "stream",
     "text": [
      "['Banana', 'Guavava', 'Cherry', 'apple', 'plums', 'strawberry']\n",
      "['Banana', 'Guavava']\n",
      "['Banana', 'Cherry', 'plums']\n",
      "[]\n"
     ]
    }
   ],
   "source": [
    "print (fruits[1:])\n",
    "print (fruits[1:3])\n",
    "print (fruits[1:6:2])\n",
    "print (fruits[-1:1])\n",
    "\n"
   ]
  },
  {
   "cell_type": "code",
   "execution_count": 35,
   "metadata": {},
   "outputs": [
    {
     "name": "stdout",
     "output_type": "stream",
     "text": [
      "['Mango', 'Banana', 'Guavava', 'Cherry', 'apple', 'plums', 'strawberry']\n",
      "['Mango', 'Watermelon', 'Guavava', 'Cherry', 'apple', 'plums', 'strawberry']\n"
     ]
    }
   ],
   "source": [
    "#modifying items of list\n",
    "print (fruits)\n",
    "fruits[1]=\"Watermelon\"\n",
    "print (fruits)"
   ]
  },
  {
   "cell_type": "code",
   "execution_count": 42,
   "metadata": {},
   "outputs": [
    {
     "name": "stdout",
     "output_type": "stream",
     "text": [
      "['Mango', 'orange', 'orange', 'Watermelon', 'Guavava', 'Cherry', 'apple', 'plums', 'strawberry', 'Banana', 'Banana', 'Banana', 'Banana', 'Banana', 'Banana', 'Banana']\n",
      "['Mango', 'orange', 'orange', 'orange', 'Watermelon', 'Guavava', 'Cherry', 'apple', 'plums', 'strawberry', 'Banana', 'Banana', 'Banana', 'Banana', 'Banana', 'Banana', 'Banana']\n",
      "['Mango', 'orange', 'orange', 'Watermelon', 'Guavava', 'Cherry', 'apple', 'plums', 'strawberry', 'Banana', 'Banana', 'Banana', 'Banana', 'Banana', 'Banana', 'Banana']\n"
     ]
    }
   ],
   "source": [
    "#list methods\n",
    "\n",
    "fruits.append(\"Banana\")\n",
    "print (fruits)\n",
    "fruits.insert(1,\"orange\")\n",
    "print (fruits)\n",
    "fruits.remove(\"orange\") #removes the first occurence of item\n",
    "print (fruits)"
   ]
  },
  {
   "cell_type": "code",
   "execution_count": 45,
   "metadata": {},
   "outputs": [
    {
     "name": "stdout",
     "output_type": "stream",
     "text": [
      "['Mango', 'orange', 'orange', 'Watermelon', 'Guavava', 'Cherry', 'apple', 'plums', 'strawberry', 'Banana', 'Banana', 'Banana', 'Banana', 'Banana', 'Banana']\n",
      "['Mango', 'orange', 'orange', 'Watermelon', 'Guavava', 'Cherry', 'apple', 'plums', 'strawberry', 'Banana', 'Banana', 'Banana', 'Banana', 'Banana']\n"
     ]
    }
   ],
   "source": [
    "# if you ant to remove the last item from the list\n",
    "print (fruits)\n",
    "fruits.pop()\n",
    "print (fruits)\n"
   ]
  },
  {
   "cell_type": "code",
   "execution_count": 46,
   "metadata": {},
   "outputs": [
    {
     "data": {
      "text/plain": [
       "8"
      ]
     },
     "execution_count": 46,
     "metadata": {},
     "output_type": "execute_result"
    }
   ],
   "source": [
    "# gettin index of any items\n",
    "fruits.index(\"strawberry\")"
   ]
  },
  {
   "cell_type": "code",
   "execution_count": 47,
   "metadata": {},
   "outputs": [
    {
     "data": {
      "text/plain": [
       "5"
      ]
     },
     "execution_count": 47,
     "metadata": {},
     "output_type": "execute_result"
    }
   ],
   "source": [
    "#getting count of a items in list\n",
    "fruits.count(\"Banana\")"
   ]
  },
  {
   "cell_type": "code",
   "execution_count": 48,
   "metadata": {},
   "outputs": [],
   "source": [
    "# slicing lists\n",
    "numbers=[1,2,3,4,5,6,7,8,9,10]"
   ]
  },
  {
   "cell_type": "code",
   "execution_count": 54,
   "metadata": {},
   "outputs": [
    {
     "name": "stdout",
     "output_type": "stream",
     "text": [
      "[1, 2, 3, 4, 5, 6, 7, 8, 9, 10]\n",
      "[2, 3, 4, 5, 6, 7, 8, 9, 10]\n",
      "[1, 2, 3, 4, 5]\n",
      "[1, 3, 5, 7, 9]\n",
      "[10, 9, 8, 7, 6, 5, 4, 3, 2, 1]\n",
      "[10, 8, 6, 4, 2]\n"
     ]
    }
   ],
   "source": [
    "print (numbers)\n",
    "print (numbers[1:])\n",
    "print (numbers[:5])\n",
    "print (numbers[::2])\n",
    "print (numbers[::-1])\n",
    "print (numbers[::-2])"
   ]
  },
  {
   "cell_type": "code",
   "execution_count": 56,
   "metadata": {},
   "outputs": [
    {
     "name": "stdout",
     "output_type": "stream",
     "text": [
      "['Mango', 'orange', 'orange', 'Watermelon', 'Guavava', 'Cherry', 'apple', 'plums', 'strawberry', 'Banana', 'Banana', 'Banana', 'Banana', 'Banana']\n",
      "Mango\n",
      "orange\n",
      "orange\n",
      "Watermelon\n",
      "Guavava\n",
      "Cherry\n",
      "apple\n",
      "plums\n",
      "strawberry\n",
      "Banana\n",
      "Banana\n",
      "Banana\n",
      "Banana\n",
      "Banana\n"
     ]
    }
   ],
   "source": [
    "#iterating over lists\n",
    "print (fruits)\n",
    "for fruit in fruits:\n",
    "    print (fruit)"
   ]
  },
  {
   "cell_type": "code",
   "execution_count": 58,
   "metadata": {},
   "outputs": [
    {
     "name": "stdout",
     "output_type": "stream",
     "text": [
      "0 Mango\n",
      "1 orange\n",
      "2 orange\n",
      "3 Watermelon\n",
      "4 Guavava\n",
      "5 Cherry\n",
      "6 apple\n",
      "7 plums\n",
      "8 strawberry\n",
      "9 Banana\n",
      "10 Banana\n",
      "11 Banana\n",
      "12 Banana\n",
      "13 Banana\n"
     ]
    }
   ],
   "source": [
    "for index,fruit in enumerate(fruits):\n",
    "    print (index,fruit)"
   ]
  },
  {
   "cell_type": "code",
   "execution_count": 59,
   "metadata": {},
   "outputs": [
    {
     "data": {
      "text/plain": [
       "[0, 1, 4, 9, 16, 25, 36, 49, 64, 81]"
      ]
     },
     "execution_count": 59,
     "metadata": {},
     "output_type": "execute_result"
    }
   ],
   "source": [
    "# **** list comprehension *** \n",
    "[x**2 for x in range(10)]\n"
   ]
  },
  {
   "cell_type": "code",
   "execution_count": 60,
   "metadata": {},
   "outputs": [],
   "source": [
    "# basic syntax - [expression for item in iterable]\n",
    "# with conditional logic - [expression for item in iterable if condition]\n",
    "# with nested list logic = [expression for item1 in iterable1 for item2 in iterable2 ]\n",
    "\n",
    "squarelist=[ item**2 for item in range (10)]"
   ]
  },
  {
   "cell_type": "code",
   "execution_count": 61,
   "metadata": {},
   "outputs": [
    {
     "name": "stdout",
     "output_type": "stream",
     "text": [
      "[0, 1, 4, 9, 16, 25, 36, 49, 64, 81]\n"
     ]
    }
   ],
   "source": [
    "print (squarelist)"
   ]
  },
  {
   "cell_type": "code",
   "execution_count": 62,
   "metadata": {},
   "outputs": [],
   "source": [
    "\n",
    "squarelist=[ item**2 for item in range (10) if item%2==0]"
   ]
  },
  {
   "cell_type": "code",
   "execution_count": 63,
   "metadata": {},
   "outputs": [
    {
     "data": {
      "text/plain": [
       "[0, 4, 16, 36, 64]"
      ]
     },
     "execution_count": 63,
     "metadata": {},
     "output_type": "execute_result"
    }
   ],
   "source": [
    "squarelist"
   ]
  },
  {
   "cell_type": "code",
   "execution_count": 67,
   "metadata": {},
   "outputs": [],
   "source": [
    "## nested list compreshension\n",
    "\n",
    "list1=[1,2,3,4]\n",
    "list2=['a','b','c','d']\n",
    "\n",
    "pair =  [[i,j] for i in list1 for j in list2 ] \n"
   ]
  },
  {
   "cell_type": "code",
   "execution_count": 68,
   "metadata": {},
   "outputs": [
    {
     "data": {
      "text/plain": [
       "[[1, 'a'],\n",
       " [1, 'b'],\n",
       " [1, 'c'],\n",
       " [1, 'd'],\n",
       " [2, 'a'],\n",
       " [2, 'b'],\n",
       " [2, 'c'],\n",
       " [2, 'd'],\n",
       " [3, 'a'],\n",
       " [3, 'b'],\n",
       " [3, 'c'],\n",
       " [3, 'd'],\n",
       " [4, 'a'],\n",
       " [4, 'b'],\n",
       " [4, 'c'],\n",
       " [4, 'd']]"
      ]
     },
     "execution_count": 68,
     "metadata": {},
     "output_type": "execute_result"
    }
   ],
   "source": [
    "pair"
   ]
  },
  {
   "cell_type": "code",
   "execution_count": 70,
   "metadata": {},
   "outputs": [
    {
     "name": "stdout",
     "output_type": "stream",
     "text": [
      "[5, 5, 6, 4, 13]\n"
     ]
    }
   ],
   "source": [
    "# list comprehension with inbuild function calls\n",
    "\n",
    "words=[\"hello\",\"world\",\"python\",\"list\",\"comprehension\"]\n",
    "lengths= [len(word) for word in words]\n",
    "print(lengths)"
   ]
  }
 ],
 "metadata": {
  "kernelspec": {
   "display_name": "venv",
   "language": "python",
   "name": "python3"
  },
  "language_info": {
   "codemirror_mode": {
    "name": "ipython",
    "version": 3
   },
   "file_extension": ".py",
   "mimetype": "text/x-python",
   "name": "python",
   "nbconvert_exporter": "python",
   "pygments_lexer": "ipython3",
   "version": "3.12.0"
  }
 },
 "nbformat": 4,
 "nbformat_minor": 2
}
