{
 "cells": [
  {
   "cell_type": "code",
   "execution_count": 1,
   "metadata": {},
   "outputs": [],
   "source": [
    "## Dictionaris\n",
    "\n",
    "# onordered collection, key value pair\n",
    "# created in {}\n",
    "# key must be unique\n",
    "# dict are immutable\n",
    "\n",
    "dict1={\"name\": \"Pankaj\", \"address\":\"Pune\"}"
   ]
  },
  {
   "cell_type": "code",
   "execution_count": 3,
   "metadata": {},
   "outputs": [
    {
     "name": "stdout",
     "output_type": "stream",
     "text": [
      "{'name': 'Pankaj', 'address': 'Pune'} <class 'dict'>\n"
     ]
    }
   ],
   "source": [
    "print (dict1, type(dict1))"
   ]
  },
  {
   "cell_type": "code",
   "execution_count": 5,
   "metadata": {},
   "outputs": [],
   "source": [
    "dict1={\"name\": [\"Pankaj\",\"Amit\",\"Aditi\"], \"address\":[\"Pune\",\"Hyd\",\"Pune\"]}"
   ]
  },
  {
   "cell_type": "code",
   "execution_count": 6,
   "metadata": {},
   "outputs": [
    {
     "name": "stdout",
     "output_type": "stream",
     "text": [
      "{'name': ['Pankaj', 'Amit', 'Aditi'], 'address': ['Pune', 'Hyd', 'Pune']}\n"
     ]
    }
   ],
   "source": [
    "print (dict1)"
   ]
  },
  {
   "cell_type": "code",
   "execution_count": 7,
   "metadata": {},
   "outputs": [],
   "source": [
    "dict2={'name':'Pankaj', 'address':'Pune', 'name':'Aditi'}"
   ]
  },
  {
   "cell_type": "code",
   "execution_count": 8,
   "metadata": {},
   "outputs": [
    {
     "name": "stdout",
     "output_type": "stream",
     "text": [
      "{'name': 'Aditi', 'address': 'Pune'}\n"
     ]
    }
   ],
   "source": [
    "print (dict2)"
   ]
  },
  {
   "cell_type": "code",
   "execution_count": 11,
   "metadata": {},
   "outputs": [
    {
     "data": {
      "text/plain": [
       "'Aditi'"
      ]
     },
     "execution_count": 11,
     "metadata": {},
     "output_type": "execute_result"
    }
   ],
   "source": [
    "# accessing dictionary elements\n",
    "#1st way\n",
    "dict2['name']"
   ]
  },
  {
   "cell_type": "code",
   "execution_count": 12,
   "metadata": {},
   "outputs": [
    {
     "name": "stdout",
     "output_type": "stream",
     "text": [
      "Aditi\n"
     ]
    }
   ],
   "source": [
    "#2nd way\n",
    "print (dict2.get('name'))"
   ]
  },
  {
   "cell_type": "code",
   "execution_count": 13,
   "metadata": {},
   "outputs": [
    {
     "data": {
      "text/plain": [
       "'Patil'"
      ]
     },
     "execution_count": 13,
     "metadata": {},
     "output_type": "execute_result"
    }
   ],
   "source": [
    "#default values\n",
    "dict2.get('lastName',\"Patil\")"
   ]
  },
  {
   "cell_type": "code",
   "execution_count": 14,
   "metadata": {},
   "outputs": [],
   "source": [
    "# Modifying dict elements\n",
    "\n",
    "dict2[\"lastName\"]='Patil'"
   ]
  },
  {
   "cell_type": "code",
   "execution_count": 15,
   "metadata": {},
   "outputs": [
    {
     "name": "stdout",
     "output_type": "stream",
     "text": [
      "{'name': 'Aditi', 'address': 'Pune', 'lastName': 'Patil'}\n"
     ]
    }
   ],
   "source": [
    "print (dict2)"
   ]
  },
  {
   "cell_type": "code",
   "execution_count": 16,
   "metadata": {},
   "outputs": [],
   "source": [
    "#deleting key and value pair\n",
    "del dict2['lastName']"
   ]
  },
  {
   "cell_type": "code",
   "execution_count": 17,
   "metadata": {},
   "outputs": [
    {
     "name": "stdout",
     "output_type": "stream",
     "text": [
      "{'name': 'Aditi', 'address': 'Pune'}\n"
     ]
    }
   ],
   "source": [
    "print (dict2)"
   ]
  },
  {
   "cell_type": "code",
   "execution_count": 27,
   "metadata": {},
   "outputs": [
    {
     "name": "stdout",
     "output_type": "stream",
     "text": [
      "dict_keys(['name', 'address'])\n",
      "dict_values(['Aditi', 'Pune'])\n",
      "dict_items([('name', 'Aditi'), ('address', 'Pune')]) <class 'dict_items'>\n"
     ]
    }
   ],
   "source": [
    "# common dict methods\n",
    "\n",
    "#get all keys\n",
    "keys1=dict2.keys()\n",
    "print (keys1)\n",
    "\n",
    "#get all values\n",
    "values1=dict2.values()\n",
    "print (values1)\n",
    "\n",
    "# get both pair\n",
    "items=dict2.items()\n",
    "print (items, type(items))\n",
    "\n"
   ]
  },
  {
   "cell_type": "code",
   "execution_count": 29,
   "metadata": {},
   "outputs": [],
   "source": [
    "#shallow copy - Important\n",
    "\n",
    "student={'name':'Pankaj','age':42, 'city':'Pune'}\n",
    "student_copy=student"
   ]
  },
  {
   "cell_type": "code",
   "execution_count": 30,
   "metadata": {},
   "outputs": [
    {
     "name": "stdout",
     "output_type": "stream",
     "text": [
      "{'name': 'Pankaj', 'age': 42, 'city': 'Pune'}\n",
      "{'name': 'Pankaj', 'age': 42, 'city': 'Pune'}\n"
     ]
    }
   ],
   "source": [
    "print (student)\n",
    "print (student_copy)"
   ]
  },
  {
   "cell_type": "code",
   "execution_count": 31,
   "metadata": {},
   "outputs": [],
   "source": [
    "student['name']='Aditi'"
   ]
  },
  {
   "cell_type": "code",
   "execution_count": 32,
   "metadata": {},
   "outputs": [
    {
     "name": "stdout",
     "output_type": "stream",
     "text": [
      "{'name': 'Aditi', 'age': 42, 'city': 'Pune'}\n",
      "{'name': 'Aditi', 'age': 42, 'city': 'Pune'}\n"
     ]
    }
   ],
   "source": [
    "print (student)\n",
    "print (student_copy)"
   ]
  },
  {
   "cell_type": "code",
   "execution_count": 33,
   "metadata": {},
   "outputs": [],
   "source": [
    "# so = operator links the twp dictionaries. In order to avoid this, use copy\n",
    "\n",
    "student_copy1=student.copy()"
   ]
  },
  {
   "cell_type": "code",
   "execution_count": 34,
   "metadata": {},
   "outputs": [
    {
     "name": "stdout",
     "output_type": "stream",
     "text": [
      "{'name': 'Aditi', 'age': 42, 'city': 'Pune'}\n",
      "{'name': 'Aditi', 'age': 42, 'city': 'Pune'}\n"
     ]
    }
   ],
   "source": [
    "print (student)\n",
    "print (student_copy1)"
   ]
  },
  {
   "cell_type": "code",
   "execution_count": 35,
   "metadata": {},
   "outputs": [],
   "source": [
    "student['name']=\"Akshara\""
   ]
  },
  {
   "cell_type": "code",
   "execution_count": 36,
   "metadata": {},
   "outputs": [
    {
     "name": "stdout",
     "output_type": "stream",
     "text": [
      "{'name': 'Akshara', 'age': 42, 'city': 'Pune'}\n",
      "{'name': 'Aditi', 'age': 42, 'city': 'Pune'}\n"
     ]
    }
   ],
   "source": [
    "print (student)\n",
    "print (student_copy1)"
   ]
  },
  {
   "cell_type": "code",
   "execution_count": 39,
   "metadata": {},
   "outputs": [
    {
     "name": "stdout",
     "output_type": "stream",
     "text": [
      "{'name': 'Akshara', 'age': 42, 'city': 'Pune'}\n"
     ]
    }
   ],
   "source": [
    "#iterating over dictionaries\n",
    "print (student)\n",
    "\n",
    "student.update({'name':'Pankaj','age':42,'city':'Pune'})"
   ]
  },
  {
   "cell_type": "code",
   "execution_count": 42,
   "metadata": {},
   "outputs": [
    {
     "name": "stdout",
     "output_type": "stream",
     "text": [
      "name\n",
      "age\n",
      "city\n",
      "Pankaj\n",
      "42\n",
      "Pune\n"
     ]
    }
   ],
   "source": [
    "for keys in student.keys():\n",
    "    print (keys)\n",
    "\n",
    "for values in student.values():\n",
    "    print (values)\n"
   ]
  },
  {
   "cell_type": "code",
   "execution_count": 43,
   "metadata": {},
   "outputs": [
    {
     "name": "stdout",
     "output_type": "stream",
     "text": [
      "name:Pankaj\n",
      "age:42\n",
      "city:Pune\n"
     ]
    }
   ],
   "source": [
    "for key,value in student.items():\n",
    "    print (f'{key}:{value}')"
   ]
  },
  {
   "cell_type": "code",
   "execution_count": 45,
   "metadata": {},
   "outputs": [
    {
     "name": "stdout",
     "output_type": "stream",
     "text": [
      "{'name': 'Pankaj', 'age': 42, 'city': 'Pune', 'address': {'city': 'Pune', 'flat': 'E1101', 'pin': 411027}}\n"
     ]
    }
   ],
   "source": [
    "#nested dictionary\n",
    "student['address']={'city':'Pune',\"flat\":'E1101','pin':411027}\n",
    "print (student)"
   ]
  },
  {
   "cell_type": "code",
   "execution_count": 47,
   "metadata": {},
   "outputs": [
    {
     "data": {
      "text/plain": [
       "'E1101'"
      ]
     },
     "execution_count": 47,
     "metadata": {},
     "output_type": "execute_result"
    }
   ],
   "source": [
    "#access nesterd dict elements\n",
    "\n",
    "student['address']['flat']"
   ]
  },
  {
   "cell_type": "code",
   "execution_count": 49,
   "metadata": {},
   "outputs": [
    {
     "data": {
      "text/plain": [
       "{0: 0, 1: 1, 2: 4, 3: 9, 4: 16, 5: 25, 6: 36}"
      ]
     },
     "execution_count": 49,
     "metadata": {},
     "output_type": "execute_result"
    }
   ],
   "source": [
    "#dictionary comprehension\n",
    "\n",
    "{ x:x**2 for x in range(7)}"
   ]
  },
  {
   "cell_type": "code",
   "execution_count": 50,
   "metadata": {},
   "outputs": [
    {
     "data": {
      "text/plain": [
       "{0: 0, 2: 4, 4: 16, 6: 36}"
      ]
     },
     "execution_count": 50,
     "metadata": {},
     "output_type": "execute_result"
    }
   ],
   "source": [
    "# conditional dict comprehension\n",
    "\n",
    "{ x:x**2 for x in range(7) if x%2==0}"
   ]
  },
  {
   "cell_type": "code",
   "execution_count": 53,
   "metadata": {},
   "outputs": [
    {
     "data": {
      "text/plain": [
       "{1: 3, 2: 2, 3: 1, 4: 1, 5: 3, 7: 1}"
      ]
     },
     "execution_count": 53,
     "metadata": {},
     "output_type": "execute_result"
    }
   ],
   "source": [
    "# use dict to count the frequency of elements in list\n",
    "\n",
    "numbers=[1,1,1,2,2,3,4,5,5,5,7]\n",
    "\n",
    "{x:numbers.count(x) for x in numbers}"
   ]
  }
 ],
 "metadata": {
  "kernelspec": {
   "display_name": "venv",
   "language": "python",
   "name": "python3"
  },
  "language_info": {
   "codemirror_mode": {
    "name": "ipython",
    "version": 3
   },
   "file_extension": ".py",
   "mimetype": "text/x-python",
   "name": "python",
   "nbconvert_exporter": "python",
   "pygments_lexer": "ipython3",
   "version": "3.12.0"
  }
 },
 "nbformat": 4,
 "nbformat_minor": 2
}
